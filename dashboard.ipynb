{
 "metadata": {
  "name": "",
  "signature": "sha256:f4ca85cae03f5dd9a8b8418bb4d55eee1fc4bc70e3e29d06e227153b99df5199"
 },
 "nbformat": 3,
 "nbformat_minor": 0,
 "worksheets": [
  {
   "cells": [
    {
     "cell_type": "code",
     "collapsed": false,
     "input": [
      "from pptx import *\n",
      "p = Presentation('toob_test.pptx')\n",
      "slide = p.slides[0]\n",
      "shapes = slide.shapes"
     ],
     "language": "python",
     "metadata": {},
     "outputs": [],
     "prompt_number": 76
    },
    {
     "cell_type": "code",
     "collapsed": false,
     "input": [
      "gui = {}\n",
      "available = ['bar','clock','text']\n",
      "#simple parser of object belonging to each other\n",
      "for gui_element in available:\n",
      "    for shape in shapes:\n",
      "        if gui_element in  shape.name:\n",
      "            t = shape.name[ shape.name.find('_')+1:-2]\n",
      "            name = gui_element + shape.name[-2:]\n",
      "            if not gui.has_key(name):\n",
      "                gui[name] = {}; \n",
      "            gui[name][t] = shape"
     ],
     "language": "python",
     "metadata": {},
     "outputs": [],
     "prompt_number": 77
    },
    {
     "cell_type": "code",
     "collapsed": false,
     "input": [
      "def coords( element):\n",
      "    return element.left, element.top\n",
      "\n",
      "def set_bar( bar, factor):\n",
      "    vb = bar['value']\n",
      "    # use max_len to work out percentage\n",
      "    bar['max'].height\n",
      "    new_len = bar['max'].height*factor #if factor is a percentage\n",
      "    remember = coords(vb)\n",
      "    old_height = vb.height\n",
      "    vb.height = int(round(new_len))\n",
      "    vb.left = remember[0]\n",
      "    if old_height < vb.height:   #got lonfer\n",
      "        vb.top = remember[1] - (vb.height-old_height)\n",
      "    else:   #got shorter\n",
      "        vb.top = remember[1] + (old_height-vb.height)\n",
      "\n",
      "def set_text( textbox, text):\n",
      "    vb = textbox['box']\n",
      "    vb.text = text\n",
      "    \n",
      "    "
     ],
     "language": "python",
     "metadata": {},
     "outputs": [],
     "prompt_number": 78
    },
    {
     "cell_type": "code",
     "collapsed": false,
     "input": [
      "set_bar(  gui['bar_1'], .5 )\n",
      "set_bar(  gui['bar_0'], .5 )\n",
      "set_text( gui['text_0'], 'jislaaik')"
     ],
     "language": "python",
     "metadata": {},
     "outputs": [],
     "prompt_number": 63
    },
    {
     "cell_type": "code",
     "collapsed": false,
     "input": [
      "p.save('toob_test.pptx')"
     ],
     "language": "python",
     "metadata": {},
     "outputs": [],
     "prompt_number": 75
    },
    {
     "cell_type": "code",
     "collapsed": false,
     "input": [
      "box = gui['text_0']['box']"
     ],
     "language": "python",
     "metadata": {},
     "outputs": [],
     "prompt_number": 65
    },
    {
     "cell_type": "code",
     "collapsed": false,
     "input": [
      "box.value = 'snot'\n"
     ],
     "language": "python",
     "metadata": {},
     "outputs": [],
     "prompt_number": 66
    },
    {
     "cell_type": "code",
     "collapsed": true,
     "input": [
      "a = gui['text_0']['box']\n"
     ],
     "language": "python",
     "metadata": {},
     "outputs": [],
     "prompt_number": 67
    },
    {
     "cell_type": "code",
     "collapsed": false,
     "input": [
      "a.text"
     ],
     "language": "python",
     "metadata": {},
     "outputs": [
      {
       "metadata": {},
       "output_type": "pyout",
       "prompt_number": 68,
       "text": [
        "u'jislaaik'"
       ]
      }
     ],
     "prompt_number": 68
    },
    {
     "cell_type": "code",
     "collapsed": false,
     "input": [
      "gui['text_2']['box'].text "
     ],
     "language": "python",
     "metadata": {},
     "outputs": [
      {
       "metadata": {},
       "output_type": "pyout",
       "prompt_number": 79,
       "text": [
        "u'P\\nO\\nes'"
       ]
      }
     ],
     "prompt_number": 79
    },
    {
     "cell_type": "code",
     "collapsed": false,
     "input": [],
     "language": "python",
     "metadata": {},
     "outputs": []
    }
   ],
   "metadata": {}
  }
 ]
}